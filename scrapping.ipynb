{
 "cells": [
  {
   "cell_type": "code",
   "execution_count": 2,
   "metadata": {},
   "outputs": [],
   "source": [
    "import snscrape.modules.twitter as sntwitter #libreria para extraer datos de redes sociales\n",
    "import pandas as pd"
   ]
  },
  {
   "cell_type": "code",
   "execution_count": 47,
   "metadata": {},
   "outputs": [],
   "source": [
    "#Twitter search query style \n",
    "''' Select 2000 tweets about Ukraine where faves=10 AND language=en FROM january 2023 to June 2023'''\n",
    "query = \"Travel min_faves:10 lang:en until:2023-06-29 since:2023-01-01\"\n",
    "tweets = []\n",
    "limit = 200"
   ]
  },
  {
   "cell_type": "code",
   "execution_count": 48,
   "metadata": {},
   "outputs": [
    {
     "name": "stderr",
     "output_type": "stream",
     "text": [
      "C:\\Users\\chris\\AppData\\Local\\Temp\\ipykernel_16900\\1273973702.py:7: DeprecatedFeatureWarning: content is deprecated, use rawContent instead\n",
      "  tweets.append([tweet.content])\n",
      "Skipping unrecognised entry ID: 'promoted-tweet-1674020348222918656-47f91d434f29148'\n",
      "Skipping unrecognised entry ID: 'promoted-tweet-1674256156544598017-47f3b9a7012fde6'\n",
      "Skipping unrecognised entry ID: 'promoted-tweet-1672735482118279168-47f21ed72862be1'\n",
      "Skipping unrecognised entry ID: 'promoted-tweet-1674020348222918656-47ffa4f94ea8357'\n",
      "Skipping unrecognised entry ID: 'promoted-tweet-1672735482118279168-47f3f8727cc1811'\n",
      "Skipping unrecognised entry ID: 'promoted-tweet-1674256156544598017-47ff881bc94a7ae'\n",
      "Skipping unrecognised entry ID: 'promoted-tweet-1674020348222918656-47f4cb127a653ca'\n",
      "Skipping unrecognised entry ID: 'promoted-tweet-1672735482118279168-47f00a4d5a3f398'\n",
      "Skipping unrecognised entry ID: 'promoted-tweet-1674256156544598017-47f860a94f0bba1'\n",
      "Skipping unrecognised entry ID: 'promoted-tweet-1674020348222918656-47f73fe44578009'\n",
      "Skipping unrecognised entry ID: 'promoted-tweet-1672735482118279168-47f4846a642bd16'\n",
      "Skipping unrecognised entry ID: 'promoted-tweet-1674256156544598017-47fa888ca60f48d'\n",
      "Skipping unrecognised entry ID: 'promoted-tweet-1674020348222918656-47f89ddd0b82e19'\n",
      "Skipping unrecognised entry ID: 'promoted-tweet-1672735482118279168-47f6dc31af82d90'\n",
      "Skipping unrecognised entry ID: 'promoted-tweet-1674256156544598017-47feddf1e562312'\n",
      "Skipping unrecognised entry ID: 'promoted-tweet-1674020348222918656-47f6cf9a18d9c47'\n",
      "Skipping unrecognised entry ID: 'promoted-tweet-1672735482118279168-47f74a15b2bd4a3'\n",
      "Skipping unrecognised entry ID: 'promoted-tweet-1672589997189353473-47fb3acc00058d3'\n",
      "Skipping unrecognised entry ID: 'promoted-tweet-1674020348222918656-47f28a5cb652724'\n",
      "Skipping unrecognised entry ID: 'promoted-tweet-1672735482118279168-47fafbc1a32015b'\n",
      "Skipping unrecognised entry ID: 'promoted-tweet-1674256156544598017-47f89a6b57d2b59'\n",
      "Skipping unrecognised entry ID: 'promoted-tweet-1674020348222918656-47f62ca27f4c17f'\n",
      "Skipping unrecognised entry ID: 'promoted-tweet-1672735482118279168-47f23f8bfdc50f4'\n",
      "Skipping unrecognised entry ID: 'promoted-tweet-1674256156544598017-47f9ba5ad92212d'\n",
      "Skipping unrecognised entry ID: 'promoted-tweet-1674020348222918656-47f26e75d793afd'\n",
      "Skipping unrecognised entry ID: 'promoted-tweet-1672735482118279168-47f4868268bfbff'\n",
      "Skipping unrecognised entry ID: 'promoted-tweet-1674256156544598017-47fe61a5d98f0fd'\n",
      "Skipping unrecognised entry ID: 'promoted-tweet-1674020348222918656-47faa01543c7ec7'\n",
      "Skipping unrecognised entry ID: 'promoted-tweet-1672735482118279168-47f4b116c1ff8da'\n",
      "Skipping unrecognised entry ID: 'promoted-tweet-1674256156544598017-47f95534c138e09'\n",
      "Skipping unrecognised entry ID: 'promoted-tweet-1663201714403418114-47f71fe5d6926a1'\n",
      "Skipping unrecognised entry ID: 'promoted-tweet-1673194375285813249-47f51fecfcdc100'\n",
      "Skipping unrecognised entry ID: 'promoted-tweet-1674256156544598017-47f85c3811bc1ef'\n",
      "Skipping unrecognised entry ID: 'promoted-tweet-1673996549691670528-47fe10fabfe0dcb'\n",
      "Skipping unrecognised entry ID: 'promoted-tweet-1672735482118279168-47f76c9a85efca2'\n",
      "Skipping unrecognised entry ID: 'promoted-tweet-1674020348222918656-47f6a93198deb64'\n",
      "Skipping unrecognised entry ID: 'promoted-tweet-1672735482118279168-47f0ecb70179ea5'\n",
      "Skipping unrecognised entry ID: 'promoted-tweet-1672589997189353473-47f8887eb5bbce9'\n"
     ]
    }
   ],
   "source": [
    "for tweet in sntwitter.TwitterSearchScraper(query).get_items():\n",
    "    #print(vars(tweet))\n",
    "    #break\n",
    "    if len(tweets) == limit:\n",
    "        break\n",
    "    else:\n",
    "        tweets.append([tweet.content])\n",
    "\n",
    "df = pd.DataFrame(tweets,columns=['Tweet'])"
   ]
  },
  {
   "cell_type": "code",
   "execution_count": 49,
   "metadata": {},
   "outputs": [
    {
     "name": "stdout",
     "output_type": "stream",
     "text": [
      "                                                 Tweet\n",
      "0    Did the rainy cook really turn the travel? #大连...\n",
      "1    4249570🥳🥳inside travel simply \\n#颜色陪玩 #女喘 #文援 ...\n",
      "2    Astounding -- 98% from one religion in FBI's t...\n",
      "3                     I’m sorry, I’m a little bit high\n",
      "4    It's fascinating - I guess not too surprising ...\n",
      "..                                                 ...\n",
      "195  @NYPoliticalMom Shes in the medical field and ...\n",
      "196  Eid al Adha commemorates the completion of haj...\n",
      "197  @ogmurdaaa @TysBurnerAcc You telling me you tr...\n",
      "198  UK 🇬🇧 State of Mind \\n\\n#NewProfilePic #Travel...\n",
      "199  Corvallis travels down to Springfield tonight ...\n",
      "\n",
      "[200 rows x 1 columns]\n"
     ]
    }
   ],
   "source": [
    "print(df)"
   ]
  },
  {
   "cell_type": "code",
   "execution_count": 50,
   "metadata": {},
   "outputs": [],
   "source": [
    "df.to_csv(\"Travel Tweets.csv\")"
   ]
  }
 ],
 "metadata": {
  "kernelspec": {
   "display_name": "Python 3",
   "language": "python",
   "name": "python3"
  },
  "language_info": {
   "codemirror_mode": {
    "name": "ipython",
    "version": 3
   },
   "file_extension": ".py",
   "mimetype": "text/x-python",
   "name": "python",
   "nbconvert_exporter": "python",
   "pygments_lexer": "ipython3",
   "version": "3.11.3"
  },
  "orig_nbformat": 4
 },
 "nbformat": 4,
 "nbformat_minor": 2
}
